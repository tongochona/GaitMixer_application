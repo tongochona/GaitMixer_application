{
 "cells": [
  {
   "cell_type": "code",
   "execution_count": null,
   "metadata": {
    "colab": {
     "base_uri": "https://localhost:8080/"
    },
    "executionInfo": {
     "elapsed": 21876,
     "status": "ok",
     "timestamp": 1747984011005,
     "user": {
      "displayName": "Hoan Tô Ngọc Hoan",
      "userId": "07784139944791794749"
     },
     "user_tz": -420
    },
    "id": "u1McX7e_eMWe",
    "outputId": "f9453a2b-0be8-4802-8b9d-78a0f9e44f57"
   },
   "outputs": [],
   "source": [
    "from google.colab import drive\n",
    "drive.mount('/content/drive')"
   ]
  },
  {
   "cell_type": "code",
   "execution_count": null,
   "metadata": {
    "colab": {
     "base_uri": "https://localhost:8080/"
    },
    "collapsed": true,
    "executionInfo": {
     "elapsed": 98521,
     "status": "ok",
     "timestamp": 1747984109926,
     "user": {
      "displayName": "Hoan Tô Ngọc Hoan",
      "userId": "07784139944791794749"
     },
     "user_tz": -420
    },
    "id": "0FOZ36Qoe2rm",
    "outputId": "cab56c6e-ece5-4afb-c697-c2c007c42aba"
   },
   "outputs": [],
   "source": [
    "!pip install numpy pandas scikit-learn torch torchvision timm wandb einops requests protobuf pytorch-metric-learning ultralytics\n"
   ]
  },
  {
   "cell_type": "code",
   "execution_count": null,
   "metadata": {
    "colab": {
     "base_uri": "https://localhost:8080/"
    },
    "executionInfo": {
     "elapsed": 13,
     "status": "ok",
     "timestamp": 1747984109938,
     "user": {
      "displayName": "Hoan Tô Ngọc Hoan",
      "userId": "07784139944791794749"
     },
     "user_tz": -420
    },
    "id": "5bRxxodERn0u",
    "outputId": "ee4b14b0-6e15-41a5-da68-77522a573dfe"
   },
   "outputs": [
    {
     "name": "stdout",
     "output_type": "stream",
     "text": [
      "/content/drive/MyDrive/PBL4/myGaitMixer/src\n"
     ]
    }
   ],
   "source": [
    "%cd /content/drive/MyDrive/PBL4/myGaitMixer/src"
   ]
  },
  {
   "cell_type": "code",
   "execution_count": null,
   "metadata": {
    "colab": {
     "base_uri": "https://localhost:8080/"
    },
    "collapsed": true,
    "executionInfo": {
     "elapsed": 502844,
     "status": "ok",
     "timestamp": 1747621330410,
     "user": {
      "displayName": "Hoan Tô Ngọc Hoan",
      "userId": "07784139944791794749"
     },
     "user_tz": -420
    },
    "id": "seWX3MrzlaG7",
    "outputId": "f42daed6-f62c-4c8a-909a-a8f702415642"
   },
   "outputs": [],
   "source": [
    "!python train.py YOLO --train_data_path ../myData/yolo_train.csv --valid_data_path ../myData/yolo_val.csv --debug \"false\" --save_model \"true\" --weight_path ../../GaitMixer.pt --epochs 30 --name yolo --project myGaitMixer --learning_rate 6e-4\n"
   ]
  },
  {
   "cell_type": "code",
   "execution_count": null,
   "metadata": {
    "colab": {
     "base_uri": "https://localhost:8080/"
    },
    "collapsed": true,
    "executionInfo": {
     "elapsed": 26209,
     "status": "ok",
     "timestamp": 1747984734634,
     "user": {
      "displayName": "Hoan Tô Ngọc Hoan",
      "userId": "07784139944791794749"
     },
     "user_tz": -420
    },
    "id": "FsJTqSqBmsUf",
    "outputId": "80f024a1-5203-4c95-9f50-464e87362a56"
   },
   "outputs": [],
   "source": [
    "%cd /content/drive/MyDrive/PBL4/myGaitMixer/src\n",
    "!python test.py YOLO  --predict_data_path ../video/video_test.MOV --ref_data_path ../myData/yolo_train.csv --weight_path ../save/unify/project_name/2025-05-19-01-53-41_project_name/checkpoint/last.pth"
   ]
  }
 ],
 "metadata": {
  "accelerator": "GPU",
  "colab": {
   "gpuType": "T4",
   "provenance": []
  },
  "kernelspec": {
   "display_name": "Python 3",
   "name": "python3"
  },
  "language_info": {
   "name": "python"
  }
 },
 "nbformat": 4,
 "nbformat_minor": 0
}
